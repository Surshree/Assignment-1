{
 "cells": [
  {
   "cell_type": "code",
   "execution_count": 3,
   "id": "6c95fa3f",
   "metadata": {},
   "outputs": [],
   "source": [
    "import pandas as pd\n",
    "import numpy as np\n",
    "from scipy import stats\n",
    "from scipy.stats import norm\n",
    "import matplotlib.pyplot as plt"
   ]
  },
  {
   "cell_type": "code",
   "execution_count": null,
   "id": "8416274f",
   "metadata": {},
   "outputs": [],
   "source": [
    "//Suppose we want to estimate the average weight\n",
    "of an adult male in Mexico. We draw a random sample of 2,000 men\n",
    "from a population of 3,000,000 men and weigh them.\n",
    "We find that the average person in our sample weighs \n",
    "200 pounds, and the standard deviation of the sample is 30 pounds. \n",
    "Calculate 94%,98%,96% confidence interval"
   ]
  },
  {
   "cell_type": "code",
   "execution_count": null,
   "id": "8a5f65a6",
   "metadata": {},
   "outputs": [],
   "source": [
    "std= 30, mean=200, x=0.94, sample set=n=2000"
   ]
  },
  {
   "cell_type": "code",
   "execution_count": 7,
   "id": "b4a8f410",
   "metadata": {},
   "outputs": [
    {
     "data": {
      "text/plain": [
       "(199.98589404793887, 200.01410595206113)"
      ]
     },
     "execution_count": 7,
     "metadata": {},
     "output_type": "execute_result"
    }
   ],
   "source": [
    "stats.norm.interval(0.94,200,30/2000*0.5)"
   ]
  },
  {
   "cell_type": "code",
   "execution_count": 8,
   "id": "cfd18140",
   "metadata": {},
   "outputs": [
    {
     "data": {
      "text/plain": [
       "(199.9825523909447, 200.0174476090553)"
      ]
     },
     "execution_count": 8,
     "metadata": {},
     "output_type": "execute_result"
    }
   ],
   "source": [
    "stats.norm.interval(0.98,200,30/2000*0.5)"
   ]
  },
  {
   "cell_type": "code",
   "execution_count": 9,
   "id": "7dde8a07",
   "metadata": {},
   "outputs": [
    {
     "data": {
      "text/plain": [
       "(199.98459688317027, 200.01540311682973)"
      ]
     },
     "execution_count": 9,
     "metadata": {},
     "output_type": "execute_result"
    }
   ],
   "source": [
    "stats.norm.interval(0.96,200,30/2000*0.5)"
   ]
  },
  {
   "cell_type": "code",
   "execution_count": null,
   "id": "32ffe8d3",
   "metadata": {},
   "outputs": [],
   "source": []
  }
 ],
 "metadata": {
  "kernelspec": {
   "display_name": "Python 3 (ipykernel)",
   "language": "python",
   "name": "python3"
  },
  "language_info": {
   "codemirror_mode": {
    "name": "ipython",
    "version": 3
   },
   "file_extension": ".py",
   "mimetype": "text/x-python",
   "name": "python",
   "nbconvert_exporter": "python",
   "pygments_lexer": "ipython3",
   "version": "3.9.13"
  }
 },
 "nbformat": 4,
 "nbformat_minor": 5
}
